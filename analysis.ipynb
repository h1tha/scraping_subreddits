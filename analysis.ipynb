{
 "cells": [
  {
   "cell_type": "markdown",
   "metadata": {},
   "source": [
    "# Imports"
   ]
  },
  {
   "cell_type": "code",
   "execution_count": 195,
   "metadata": {},
   "outputs": [],
   "source": [
    "import pandas as pd     \n",
    "import re\n",
    "import numpy as np\n",
    "import seaborn as sns\n",
    "import matplotlib.pyplot as plt\n",
    "\n",
    "import nltk\n",
    "from nltk.tokenize import sent_tokenize, word_tokenize, RegexpTokenizer\n",
    "from nltk.stem import WordNetLemmatizer\n",
    "from nltk.corpus import stopwords, wordnet\n",
    "from nltk.sentiment.vader import SentimentIntensityAnalyzer\n",
    "\n",
    "from sklearn.neighbors import KNeighborsClassifier\n",
    "from sklearn.model_selection import train_test_split, GridSearchCV, cross_val_score\n",
    "from sklearn.pipeline import Pipeline\n",
    "from sklearn.naive_bayes import MultinomialNB\n",
    "from sklearn.linear_model import LogisticRegression\n",
    "from sklearn.metrics import confusion_matrix, plot_confusion_matrix, accuracy_score, f1_score\n",
    "from sklearn.feature_extraction.text import CountVectorizer, TfidfVectorizer\n",
    "from sklearn.ensemble import RandomForestClassifier, ExtraTreesClassifier\n",
    "from sklearn.preprocessing import StandardScaler"
   ]
  },
  {
   "cell_type": "markdown",
   "metadata": {},
   "source": [
    "# Processing Data"
   ]
  },
  {
   "cell_type": "markdown",
   "metadata": {},
   "source": [
    "Here I will tokenize and lemmatize the cleaned dataframe."
   ]
  },
  {
   "cell_type": "code",
   "execution_count": 43,
   "metadata": {},
   "outputs": [],
   "source": [
    "clean = pd.read_csv('./data/clean_subreddit_data.csv')"
   ]
  },
  {
   "cell_type": "code",
   "execution_count": 44,
   "metadata": {},
   "outputs": [],
   "source": [
    "clean['tokenized_sent'] = clean.apply(lambda row: word_tokenize(row['fulltext']), axis=1)"
   ]
  },
  {
   "cell_type": "code",
   "execution_count": 45,
   "metadata": {},
   "outputs": [
    {
     "data": {
      "text/html": [
       "<div>\n",
       "<style scoped>\n",
       "    .dataframe tbody tr th:only-of-type {\n",
       "        vertical-align: middle;\n",
       "    }\n",
       "\n",
       "    .dataframe tbody tr th {\n",
       "        vertical-align: top;\n",
       "    }\n",
       "\n",
       "    .dataframe thead th {\n",
       "        text-align: right;\n",
       "    }\n",
       "</style>\n",
       "<table border=\"1\" class=\"dataframe\">\n",
       "  <thead>\n",
       "    <tr style=\"text-align: right;\">\n",
       "      <th></th>\n",
       "      <th>selftext</th>\n",
       "      <th>subreddit</th>\n",
       "      <th>title</th>\n",
       "      <th>fulltext</th>\n",
       "      <th>nosleep</th>\n",
       "      <th>tokenized_sent</th>\n",
       "      <th>stopwords_removed</th>\n",
       "    </tr>\n",
       "  </thead>\n",
       "  <tbody>\n",
       "    <tr>\n",
       "      <th>0</th>\n",
       "      <td>[Part 1](https://www.reddit.com/r/nosleep/comm...</td>\n",
       "      <td>nosleep</td>\n",
       "      <td>My memories may soon kill me. (Part 2)</td>\n",
       "      <td>My memories may soon kill me. (Part 2) [Part 1...</td>\n",
       "      <td>1</td>\n",
       "      <td>[My, memories, may, soon, kill, me, ., (, Part...</td>\n",
       "      <td>[My, memories, may, soon, kill, ., (, Part, 2,...</td>\n",
       "    </tr>\n",
       "    <tr>\n",
       "      <th>1</th>\n",
       "      <td>Suki was assigned her maternal spirit at bi...</td>\n",
       "      <td>nosleep</td>\n",
       "      <td>Sometimes The Devil Wins</td>\n",
       "      <td>Sometimes The Devil Wins    Suki was assigned ...</td>\n",
       "      <td>1</td>\n",
       "      <td>[Sometimes, The, Devil, Wins, Suki, was, assig...</td>\n",
       "      <td>[Sometimes, The, Devil, Wins, Suki, assigned, ...</td>\n",
       "    </tr>\n",
       "    <tr>\n",
       "      <th>2</th>\n",
       "      <td>I want to preface this by saying that I have n...</td>\n",
       "      <td>nosleep</td>\n",
       "      <td>The woman that haunts me, day and night</td>\n",
       "      <td>The woman that haunts me, day and night I want...</td>\n",
       "      <td>1</td>\n",
       "      <td>[The, woman, that, haunts, me, ,, day, and, ni...</td>\n",
       "      <td>[The, woman, haunts, ,, day, night, I, want, p...</td>\n",
       "    </tr>\n",
       "    <tr>\n",
       "      <th>3</th>\n",
       "      <td>When the kidnapper made me guess where he kept...</td>\n",
       "      <td>nosleep</td>\n",
       "      <td>Good Night :)</td>\n",
       "      <td>Good Night :) When the kidnapper made me guess...</td>\n",
       "      <td>1</td>\n",
       "      <td>[Good, Night, :, ), When, the, kidnapper, made...</td>\n",
       "      <td>[Good, Night, :, ), When, kidnapper, made, gue...</td>\n",
       "    </tr>\n",
       "    <tr>\n",
       "      <th>4</th>\n",
       "      <td>It was memorial weekend and in my home state o...</td>\n",
       "      <td>nosleep</td>\n",
       "      <td>Camping on the Run</td>\n",
       "      <td>Camping on the Run It was memorial weekend and...</td>\n",
       "      <td>1</td>\n",
       "      <td>[Camping, on, the, Run, It, was, memorial, wee...</td>\n",
       "      <td>[Camping, Run, It, memorial, weekend, home, st...</td>\n",
       "    </tr>\n",
       "  </tbody>\n",
       "</table>\n",
       "</div>"
      ],
      "text/plain": [
       "                                            selftext subreddit  \\\n",
       "0  [Part 1](https://www.reddit.com/r/nosleep/comm...   nosleep   \n",
       "1     Suki was assigned her maternal spirit at bi...   nosleep   \n",
       "2  I want to preface this by saying that I have n...   nosleep   \n",
       "3  When the kidnapper made me guess where he kept...   nosleep   \n",
       "4  It was memorial weekend and in my home state o...   nosleep   \n",
       "\n",
       "                                     title  \\\n",
       "0   My memories may soon kill me. (Part 2)   \n",
       "1                 Sometimes The Devil Wins   \n",
       "2  The woman that haunts me, day and night   \n",
       "3                            Good Night :)   \n",
       "4                       Camping on the Run   \n",
       "\n",
       "                                            fulltext  nosleep  \\\n",
       "0  My memories may soon kill me. (Part 2) [Part 1...        1   \n",
       "1  Sometimes The Devil Wins    Suki was assigned ...        1   \n",
       "2  The woman that haunts me, day and night I want...        1   \n",
       "3  Good Night :) When the kidnapper made me guess...        1   \n",
       "4  Camping on the Run It was memorial weekend and...        1   \n",
       "\n",
       "                                      tokenized_sent  \\\n",
       "0  [My, memories, may, soon, kill, me, ., (, Part...   \n",
       "1  [Sometimes, The, Devil, Wins, Suki, was, assig...   \n",
       "2  [The, woman, that, haunts, me, ,, day, and, ni...   \n",
       "3  [Good, Night, :, ), When, the, kidnapper, made...   \n",
       "4  [Camping, on, the, Run, It, was, memorial, wee...   \n",
       "\n",
       "                                   stopwords_removed  \n",
       "0  [My, memories, may, soon, kill, ., (, Part, 2,...  \n",
       "1  [Sometimes, The, Devil, Wins, Suki, assigned, ...  \n",
       "2  [The, woman, haunts, ,, day, night, I, want, p...  \n",
       "3  [Good, Night, :, ), When, kidnapper, made, gue...  \n",
       "4  [Camping, Run, It, memorial, weekend, home, st...  "
      ]
     },
     "execution_count": 45,
     "metadata": {},
     "output_type": "execute_result"
    }
   ],
   "source": [
    "stop_words = set(stopwords.words('english'))\n",
    "clean['stopwords_removed'] = clean['tokenized_sent'].apply(lambda x: [word for word in x if word not in stop_words])\n",
    "clean.head()"
   ]
  },
  {
   "cell_type": "code",
   "execution_count": 30,
   "metadata": {},
   "outputs": [],
   "source": [
    "lemmatizer = WordNetLemmatizer()"
   ]
  },
  {
   "cell_type": "code",
   "execution_count": 46,
   "metadata": {},
   "outputs": [
    {
     "data": {
      "text/html": [
       "<div>\n",
       "<style scoped>\n",
       "    .dataframe tbody tr th:only-of-type {\n",
       "        vertical-align: middle;\n",
       "    }\n",
       "\n",
       "    .dataframe tbody tr th {\n",
       "        vertical-align: top;\n",
       "    }\n",
       "\n",
       "    .dataframe thead th {\n",
       "        text-align: right;\n",
       "    }\n",
       "</style>\n",
       "<table border=\"1\" class=\"dataframe\">\n",
       "  <thead>\n",
       "    <tr style=\"text-align: right;\">\n",
       "      <th></th>\n",
       "      <th>selftext</th>\n",
       "      <th>subreddit</th>\n",
       "      <th>title</th>\n",
       "      <th>fulltext</th>\n",
       "      <th>nosleep</th>\n",
       "      <th>tokenized_sent</th>\n",
       "      <th>stopwords_removed</th>\n",
       "      <th>tags</th>\n",
       "    </tr>\n",
       "  </thead>\n",
       "  <tbody>\n",
       "    <tr>\n",
       "      <th>0</th>\n",
       "      <td>[Part 1](https://www.reddit.com/r/nosleep/comm...</td>\n",
       "      <td>nosleep</td>\n",
       "      <td>My memories may soon kill me. (Part 2)</td>\n",
       "      <td>My memories may soon kill me. (Part 2) [Part 1...</td>\n",
       "      <td>1</td>\n",
       "      <td>[My, memories, may, soon, kill, me, ., (, Part...</td>\n",
       "      <td>[My, memories, may, soon, kill, ., (, Part, 2,...</td>\n",
       "      <td>[(My, PRP$), (memories, NNS), (may, MD), (soon...</td>\n",
       "    </tr>\n",
       "    <tr>\n",
       "      <th>1</th>\n",
       "      <td>Suki was assigned her maternal spirit at bi...</td>\n",
       "      <td>nosleep</td>\n",
       "      <td>Sometimes The Devil Wins</td>\n",
       "      <td>Sometimes The Devil Wins    Suki was assigned ...</td>\n",
       "      <td>1</td>\n",
       "      <td>[Sometimes, The, Devil, Wins, Suki, was, assig...</td>\n",
       "      <td>[Sometimes, The, Devil, Wins, Suki, assigned, ...</td>\n",
       "      <td>[(Sometimes, RB), (The, DT), (Devil, NNP), (Wi...</td>\n",
       "    </tr>\n",
       "    <tr>\n",
       "      <th>2</th>\n",
       "      <td>I want to preface this by saying that I have n...</td>\n",
       "      <td>nosleep</td>\n",
       "      <td>The woman that haunts me, day and night</td>\n",
       "      <td>The woman that haunts me, day and night I want...</td>\n",
       "      <td>1</td>\n",
       "      <td>[The, woman, that, haunts, me, ,, day, and, ni...</td>\n",
       "      <td>[The, woman, haunts, ,, day, night, I, want, p...</td>\n",
       "      <td>[(The, DT), (woman, NN), (haunts, NNS), (,, ,)...</td>\n",
       "    </tr>\n",
       "    <tr>\n",
       "      <th>3</th>\n",
       "      <td>When the kidnapper made me guess where he kept...</td>\n",
       "      <td>nosleep</td>\n",
       "      <td>Good Night :)</td>\n",
       "      <td>Good Night :) When the kidnapper made me guess...</td>\n",
       "      <td>1</td>\n",
       "      <td>[Good, Night, :, ), When, the, kidnapper, made...</td>\n",
       "      <td>[Good, Night, :, ), When, kidnapper, made, gue...</td>\n",
       "      <td>[(Good, JJ), (Night, NNP), (:, :), (), )), (Wh...</td>\n",
       "    </tr>\n",
       "    <tr>\n",
       "      <th>4</th>\n",
       "      <td>It was memorial weekend and in my home state o...</td>\n",
       "      <td>nosleep</td>\n",
       "      <td>Camping on the Run</td>\n",
       "      <td>Camping on the Run It was memorial weekend and...</td>\n",
       "      <td>1</td>\n",
       "      <td>[Camping, on, the, Run, It, was, memorial, wee...</td>\n",
       "      <td>[Camping, Run, It, memorial, weekend, home, st...</td>\n",
       "      <td>[(Camping, VBG), (Run, NNP), (It, PRP), (memor...</td>\n",
       "    </tr>\n",
       "  </tbody>\n",
       "</table>\n",
       "</div>"
      ],
      "text/plain": [
       "                                            selftext subreddit  \\\n",
       "0  [Part 1](https://www.reddit.com/r/nosleep/comm...   nosleep   \n",
       "1     Suki was assigned her maternal spirit at bi...   nosleep   \n",
       "2  I want to preface this by saying that I have n...   nosleep   \n",
       "3  When the kidnapper made me guess where he kept...   nosleep   \n",
       "4  It was memorial weekend and in my home state o...   nosleep   \n",
       "\n",
       "                                     title  \\\n",
       "0   My memories may soon kill me. (Part 2)   \n",
       "1                 Sometimes The Devil Wins   \n",
       "2  The woman that haunts me, day and night   \n",
       "3                            Good Night :)   \n",
       "4                       Camping on the Run   \n",
       "\n",
       "                                            fulltext  nosleep  \\\n",
       "0  My memories may soon kill me. (Part 2) [Part 1...        1   \n",
       "1  Sometimes The Devil Wins    Suki was assigned ...        1   \n",
       "2  The woman that haunts me, day and night I want...        1   \n",
       "3  Good Night :) When the kidnapper made me guess...        1   \n",
       "4  Camping on the Run It was memorial weekend and...        1   \n",
       "\n",
       "                                      tokenized_sent  \\\n",
       "0  [My, memories, may, soon, kill, me, ., (, Part...   \n",
       "1  [Sometimes, The, Devil, Wins, Suki, was, assig...   \n",
       "2  [The, woman, that, haunts, me, ,, day, and, ni...   \n",
       "3  [Good, Night, :, ), When, the, kidnapper, made...   \n",
       "4  [Camping, on, the, Run, It, was, memorial, wee...   \n",
       "\n",
       "                                   stopwords_removed  \\\n",
       "0  [My, memories, may, soon, kill, ., (, Part, 2,...   \n",
       "1  [Sometimes, The, Devil, Wins, Suki, assigned, ...   \n",
       "2  [The, woman, haunts, ,, day, night, I, want, p...   \n",
       "3  [Good, Night, :, ), When, kidnapper, made, gue...   \n",
       "4  [Camping, Run, It, memorial, weekend, home, st...   \n",
       "\n",
       "                                                tags  \n",
       "0  [(My, PRP$), (memories, NNS), (may, MD), (soon...  \n",
       "1  [(Sometimes, RB), (The, DT), (Devil, NNP), (Wi...  \n",
       "2  [(The, DT), (woman, NN), (haunts, NNS), (,, ,)...  \n",
       "3  [(Good, JJ), (Night, NNP), (:, :), (), )), (Wh...  \n",
       "4  [(Camping, VBG), (Run, NNP), (It, PRP), (memor...  "
      ]
     },
     "execution_count": 46,
     "metadata": {},
     "output_type": "execute_result"
    }
   ],
   "source": [
    "# labeling words with NLTK labels\n",
    "\n",
    "clean['tags'] = clean['stopwords_removed'].apply(nltk.tag.pos_tag)\n",
    "clean.head()"
   ]
  },
  {
   "cell_type": "code",
   "execution_count": 51,
   "metadata": {},
   "outputs": [
    {
     "data": {
      "text/html": [
       "<div>\n",
       "<style scoped>\n",
       "    .dataframe tbody tr th:only-of-type {\n",
       "        vertical-align: middle;\n",
       "    }\n",
       "\n",
       "    .dataframe tbody tr th {\n",
       "        vertical-align: top;\n",
       "    }\n",
       "\n",
       "    .dataframe thead th {\n",
       "        text-align: right;\n",
       "    }\n",
       "</style>\n",
       "<table border=\"1\" class=\"dataframe\">\n",
       "  <thead>\n",
       "    <tr style=\"text-align: right;\">\n",
       "      <th></th>\n",
       "      <th>selftext</th>\n",
       "      <th>subreddit</th>\n",
       "      <th>title</th>\n",
       "      <th>fulltext</th>\n",
       "      <th>nosleep</th>\n",
       "      <th>tokenized_sent</th>\n",
       "      <th>stopwords_removed</th>\n",
       "      <th>tags</th>\n",
       "      <th>type</th>\n",
       "    </tr>\n",
       "  </thead>\n",
       "  <tbody>\n",
       "    <tr>\n",
       "      <th>0</th>\n",
       "      <td>[Part 1](https://www.reddit.com/r/nosleep/comm...</td>\n",
       "      <td>nosleep</td>\n",
       "      <td>My memories may soon kill me. (Part 2)</td>\n",
       "      <td>My memories may soon kill me. (Part 2) [Part 1...</td>\n",
       "      <td>1</td>\n",
       "      <td>[My, memories, may, soon, kill, me, ., (, Part...</td>\n",
       "      <td>[My, memories, may, soon, kill, ., (, Part, 2,...</td>\n",
       "      <td>[(My, PRP$), (memories, NNS), (may, MD), (soon...</td>\n",
       "      <td>[(My, n), (memories, n), (may, n), (soon, r), ...</td>\n",
       "    </tr>\n",
       "    <tr>\n",
       "      <th>1</th>\n",
       "      <td>Suki was assigned her maternal spirit at bi...</td>\n",
       "      <td>nosleep</td>\n",
       "      <td>Sometimes The Devil Wins</td>\n",
       "      <td>Sometimes The Devil Wins    Suki was assigned ...</td>\n",
       "      <td>1</td>\n",
       "      <td>[Sometimes, The, Devil, Wins, Suki, was, assig...</td>\n",
       "      <td>[Sometimes, The, Devil, Wins, Suki, assigned, ...</td>\n",
       "      <td>[(Sometimes, RB), (The, DT), (Devil, NNP), (Wi...</td>\n",
       "      <td>[(Sometimes, r), (The, n), (Devil, n), (Wins, ...</td>\n",
       "    </tr>\n",
       "    <tr>\n",
       "      <th>2</th>\n",
       "      <td>I want to preface this by saying that I have n...</td>\n",
       "      <td>nosleep</td>\n",
       "      <td>The woman that haunts me, day and night</td>\n",
       "      <td>The woman that haunts me, day and night I want...</td>\n",
       "      <td>1</td>\n",
       "      <td>[The, woman, that, haunts, me, ,, day, and, ni...</td>\n",
       "      <td>[The, woman, haunts, ,, day, night, I, want, p...</td>\n",
       "      <td>[(The, DT), (woman, NN), (haunts, NNS), (,, ,)...</td>\n",
       "      <td>[(The, n), (woman, n), (haunts, n), (,, n), (d...</td>\n",
       "    </tr>\n",
       "    <tr>\n",
       "      <th>3</th>\n",
       "      <td>When the kidnapper made me guess where he kept...</td>\n",
       "      <td>nosleep</td>\n",
       "      <td>Good Night :)</td>\n",
       "      <td>Good Night :) When the kidnapper made me guess...</td>\n",
       "      <td>1</td>\n",
       "      <td>[Good, Night, :, ), When, the, kidnapper, made...</td>\n",
       "      <td>[Good, Night, :, ), When, kidnapper, made, gue...</td>\n",
       "      <td>[(Good, JJ), (Night, NNP), (:, :), (), )), (Wh...</td>\n",
       "      <td>[(Good, a), (Night, n), (:, n), (), n), (When,...</td>\n",
       "    </tr>\n",
       "    <tr>\n",
       "      <th>4</th>\n",
       "      <td>It was memorial weekend and in my home state o...</td>\n",
       "      <td>nosleep</td>\n",
       "      <td>Camping on the Run</td>\n",
       "      <td>Camping on the Run It was memorial weekend and...</td>\n",
       "      <td>1</td>\n",
       "      <td>[Camping, on, the, Run, It, was, memorial, wee...</td>\n",
       "      <td>[Camping, Run, It, memorial, weekend, home, st...</td>\n",
       "      <td>[(Camping, VBG), (Run, NNP), (It, PRP), (memor...</td>\n",
       "      <td>[(Camping, v), (Run, n), (It, n), (memorial, a...</td>\n",
       "    </tr>\n",
       "  </tbody>\n",
       "</table>\n",
       "</div>"
      ],
      "text/plain": [
       "                                            selftext subreddit  \\\n",
       "0  [Part 1](https://www.reddit.com/r/nosleep/comm...   nosleep   \n",
       "1     Suki was assigned her maternal spirit at bi...   nosleep   \n",
       "2  I want to preface this by saying that I have n...   nosleep   \n",
       "3  When the kidnapper made me guess where he kept...   nosleep   \n",
       "4  It was memorial weekend and in my home state o...   nosleep   \n",
       "\n",
       "                                     title  \\\n",
       "0   My memories may soon kill me. (Part 2)   \n",
       "1                 Sometimes The Devil Wins   \n",
       "2  The woman that haunts me, day and night   \n",
       "3                            Good Night :)   \n",
       "4                       Camping on the Run   \n",
       "\n",
       "                                            fulltext  nosleep  \\\n",
       "0  My memories may soon kill me. (Part 2) [Part 1...        1   \n",
       "1  Sometimes The Devil Wins    Suki was assigned ...        1   \n",
       "2  The woman that haunts me, day and night I want...        1   \n",
       "3  Good Night :) When the kidnapper made me guess...        1   \n",
       "4  Camping on the Run It was memorial weekend and...        1   \n",
       "\n",
       "                                      tokenized_sent  \\\n",
       "0  [My, memories, may, soon, kill, me, ., (, Part...   \n",
       "1  [Sometimes, The, Devil, Wins, Suki, was, assig...   \n",
       "2  [The, woman, that, haunts, me, ,, day, and, ni...   \n",
       "3  [Good, Night, :, ), When, the, kidnapper, made...   \n",
       "4  [Camping, on, the, Run, It, was, memorial, wee...   \n",
       "\n",
       "                                   stopwords_removed  \\\n",
       "0  [My, memories, may, soon, kill, ., (, Part, 2,...   \n",
       "1  [Sometimes, The, Devil, Wins, Suki, assigned, ...   \n",
       "2  [The, woman, haunts, ,, day, night, I, want, p...   \n",
       "3  [Good, Night, :, ), When, kidnapper, made, gue...   \n",
       "4  [Camping, Run, It, memorial, weekend, home, st...   \n",
       "\n",
       "                                                tags  \\\n",
       "0  [(My, PRP$), (memories, NNS), (may, MD), (soon...   \n",
       "1  [(Sometimes, RB), (The, DT), (Devil, NNP), (Wi...   \n",
       "2  [(The, DT), (woman, NN), (haunts, NNS), (,, ,)...   \n",
       "3  [(Good, JJ), (Night, NNP), (:, :), (), )), (Wh...   \n",
       "4  [(Camping, VBG), (Run, NNP), (It, PRP), (memor...   \n",
       "\n",
       "                                                type  \n",
       "0  [(My, n), (memories, n), (may, n), (soon, r), ...  \n",
       "1  [(Sometimes, r), (The, n), (Devil, n), (Wins, ...  \n",
       "2  [(The, n), (woman, n), (haunts, n), (,, n), (d...  \n",
       "3  [(Good, a), (Night, n), (:, n), (), n), (When,...  \n",
       "4  [(Camping, v), (Run, n), (It, n), (memorial, a...  "
      ]
     },
     "execution_count": 51,
     "metadata": {},
     "output_type": "execute_result"
    }
   ],
   "source": [
    "# https://towardsdatascience.com/preprocessing-text-data-using-python-576206753c28\n",
    "# changing NLTK labels to English words (adjective, verb, noun, adverb)\n",
    "\n",
    "def get_wordnet_pos(tag):\n",
    "    if tag.startswith('J'):\n",
    "        return wordnet.ADJ\n",
    "    elif tag.startswith('V'):\n",
    "        return wordnet.VERB\n",
    "    elif tag.startswith('N'):\n",
    "        return wordnet.NOUN\n",
    "    elif tag.startswith('R'):\n",
    "        return wordnet.ADV\n",
    "    else:\n",
    "        return wordnet.NOUN\n",
    "clean['type'] = clean['tags'].apply(lambda x: [(word, get_wordnet_pos(pos_tag)) for (word, pos_tag) in x])\n",
    "clean.head()"
   ]
  },
  {
   "cell_type": "code",
   "execution_count": 78,
   "metadata": {},
   "outputs": [
    {
     "data": {
      "text/html": [
       "<div>\n",
       "<style scoped>\n",
       "    .dataframe tbody tr th:only-of-type {\n",
       "        vertical-align: middle;\n",
       "    }\n",
       "\n",
       "    .dataframe tbody tr th {\n",
       "        vertical-align: top;\n",
       "    }\n",
       "\n",
       "    .dataframe thead th {\n",
       "        text-align: right;\n",
       "    }\n",
       "</style>\n",
       "<table border=\"1\" class=\"dataframe\">\n",
       "  <thead>\n",
       "    <tr style=\"text-align: right;\">\n",
       "      <th></th>\n",
       "      <th>selftext</th>\n",
       "      <th>subreddit</th>\n",
       "      <th>title</th>\n",
       "      <th>fulltext</th>\n",
       "      <th>nosleep</th>\n",
       "      <th>tokenized_sent</th>\n",
       "      <th>stopwords_removed</th>\n",
       "      <th>tags</th>\n",
       "      <th>type</th>\n",
       "      <th>lemmatized</th>\n",
       "    </tr>\n",
       "  </thead>\n",
       "  <tbody>\n",
       "    <tr>\n",
       "      <th>0</th>\n",
       "      <td>[Part 1](https://www.reddit.com/r/nosleep/comm...</td>\n",
       "      <td>nosleep</td>\n",
       "      <td>My memories may soon kill me. (Part 2)</td>\n",
       "      <td>Creepy customer I am a 18 year old cashier at ...</td>\n",
       "      <td>1</td>\n",
       "      <td>[My, memories, may, soon, kill, me, ., (, Part...</td>\n",
       "      <td>[My, memories, may, soon, kill, ., (, Part, 2,...</td>\n",
       "      <td>[(My, PRP$), (memories, NNS), (may, MD), (soon...</td>\n",
       "      <td>[(My, n), (memories, n), (may, n), (soon, r), ...</td>\n",
       "      <td>[My, memory, may, soon, kill, ., (, Part, 2, )...</td>\n",
       "    </tr>\n",
       "    <tr>\n",
       "      <th>1</th>\n",
       "      <td>Suki was assigned her maternal spirit at bi...</td>\n",
       "      <td>nosleep</td>\n",
       "      <td>Sometimes The Devil Wins</td>\n",
       "      <td>Creepy customer I am a 18 year old cashier at ...</td>\n",
       "      <td>1</td>\n",
       "      <td>[Sometimes, The, Devil, Wins, Suki, was, assig...</td>\n",
       "      <td>[Sometimes, The, Devil, Wins, Suki, assigned, ...</td>\n",
       "      <td>[(Sometimes, RB), (The, DT), (Devil, NNP), (Wi...</td>\n",
       "      <td>[(Sometimes, r), (The, n), (Devil, n), (Wins, ...</td>\n",
       "      <td>[Sometimes, The, Devil, Wins, Suki, assign, ma...</td>\n",
       "    </tr>\n",
       "    <tr>\n",
       "      <th>2</th>\n",
       "      <td>I want to preface this by saying that I have n...</td>\n",
       "      <td>nosleep</td>\n",
       "      <td>The woman that haunts me, day and night</td>\n",
       "      <td>Creepy customer I am a 18 year old cashier at ...</td>\n",
       "      <td>1</td>\n",
       "      <td>[The, woman, that, haunts, me, ,, day, and, ni...</td>\n",
       "      <td>[The, woman, haunts, ,, day, night, I, want, p...</td>\n",
       "      <td>[(The, DT), (woman, NN), (haunts, NNS), (,, ,)...</td>\n",
       "      <td>[(The, n), (woman, n), (haunts, n), (,, n), (d...</td>\n",
       "      <td>[The, woman, haunt, ,, day, night, I, want, pr...</td>\n",
       "    </tr>\n",
       "    <tr>\n",
       "      <th>3</th>\n",
       "      <td>When the kidnapper made me guess where he kept...</td>\n",
       "      <td>nosleep</td>\n",
       "      <td>Good Night :)</td>\n",
       "      <td>Creepy customer I am a 18 year old cashier at ...</td>\n",
       "      <td>1</td>\n",
       "      <td>[Good, Night, :, ), When, the, kidnapper, made...</td>\n",
       "      <td>[Good, Night, :, ), When, kidnapper, made, gue...</td>\n",
       "      <td>[(Good, JJ), (Night, NNP), (:, :), (), )), (Wh...</td>\n",
       "      <td>[(Good, a), (Night, n), (:, n), (), n), (When,...</td>\n",
       "      <td>[Good, Night, :, ), When, kidnapper, make, gue...</td>\n",
       "    </tr>\n",
       "    <tr>\n",
       "      <th>4</th>\n",
       "      <td>It was memorial weekend and in my home state o...</td>\n",
       "      <td>nosleep</td>\n",
       "      <td>Camping on the Run</td>\n",
       "      <td>Creepy customer I am a 18 year old cashier at ...</td>\n",
       "      <td>1</td>\n",
       "      <td>[Camping, on, the, Run, It, was, memorial, wee...</td>\n",
       "      <td>[Camping, Run, It, memorial, weekend, home, st...</td>\n",
       "      <td>[(Camping, VBG), (Run, NNP), (It, PRP), (memor...</td>\n",
       "      <td>[(Camping, v), (Run, n), (It, n), (memorial, a...</td>\n",
       "      <td>[Camping, Run, It, memorial, weekend, home, st...</td>\n",
       "    </tr>\n",
       "  </tbody>\n",
       "</table>\n",
       "</div>"
      ],
      "text/plain": [
       "                                            selftext subreddit  \\\n",
       "0  [Part 1](https://www.reddit.com/r/nosleep/comm...   nosleep   \n",
       "1     Suki was assigned her maternal spirit at bi...   nosleep   \n",
       "2  I want to preface this by saying that I have n...   nosleep   \n",
       "3  When the kidnapper made me guess where he kept...   nosleep   \n",
       "4  It was memorial weekend and in my home state o...   nosleep   \n",
       "\n",
       "                                     title  \\\n",
       "0   My memories may soon kill me. (Part 2)   \n",
       "1                 Sometimes The Devil Wins   \n",
       "2  The woman that haunts me, day and night   \n",
       "3                            Good Night :)   \n",
       "4                       Camping on the Run   \n",
       "\n",
       "                                            fulltext  nosleep  \\\n",
       "0  Creepy customer I am a 18 year old cashier at ...        1   \n",
       "1  Creepy customer I am a 18 year old cashier at ...        1   \n",
       "2  Creepy customer I am a 18 year old cashier at ...        1   \n",
       "3  Creepy customer I am a 18 year old cashier at ...        1   \n",
       "4  Creepy customer I am a 18 year old cashier at ...        1   \n",
       "\n",
       "                                      tokenized_sent  \\\n",
       "0  [My, memories, may, soon, kill, me, ., (, Part...   \n",
       "1  [Sometimes, The, Devil, Wins, Suki, was, assig...   \n",
       "2  [The, woman, that, haunts, me, ,, day, and, ni...   \n",
       "3  [Good, Night, :, ), When, the, kidnapper, made...   \n",
       "4  [Camping, on, the, Run, It, was, memorial, wee...   \n",
       "\n",
       "                                   stopwords_removed  \\\n",
       "0  [My, memories, may, soon, kill, ., (, Part, 2,...   \n",
       "1  [Sometimes, The, Devil, Wins, Suki, assigned, ...   \n",
       "2  [The, woman, haunts, ,, day, night, I, want, p...   \n",
       "3  [Good, Night, :, ), When, kidnapper, made, gue...   \n",
       "4  [Camping, Run, It, memorial, weekend, home, st...   \n",
       "\n",
       "                                                tags  \\\n",
       "0  [(My, PRP$), (memories, NNS), (may, MD), (soon...   \n",
       "1  [(Sometimes, RB), (The, DT), (Devil, NNP), (Wi...   \n",
       "2  [(The, DT), (woman, NN), (haunts, NNS), (,, ,)...   \n",
       "3  [(Good, JJ), (Night, NNP), (:, :), (), )), (Wh...   \n",
       "4  [(Camping, VBG), (Run, NNP), (It, PRP), (memor...   \n",
       "\n",
       "                                                type  \\\n",
       "0  [(My, n), (memories, n), (may, n), (soon, r), ...   \n",
       "1  [(Sometimes, r), (The, n), (Devil, n), (Wins, ...   \n",
       "2  [(The, n), (woman, n), (haunts, n), (,, n), (d...   \n",
       "3  [(Good, a), (Night, n), (:, n), (), n), (When,...   \n",
       "4  [(Camping, v), (Run, n), (It, n), (memorial, a...   \n",
       "\n",
       "                                          lemmatized  \n",
       "0  [My, memory, may, soon, kill, ., (, Part, 2, )...  \n",
       "1  [Sometimes, The, Devil, Wins, Suki, assign, ma...  \n",
       "2  [The, woman, haunt, ,, day, night, I, want, pr...  \n",
       "3  [Good, Night, :, ), When, kidnapper, make, gue...  \n",
       "4  [Camping, Run, It, memorial, weekend, home, st...  "
      ]
     },
     "execution_count": 78,
     "metadata": {},
     "output_type": "execute_result"
    }
   ],
   "source": [
    "clean['lemmatized'] = clean['type'].apply(lambda x: [lemmatizer.lemmatize(word, tag) for word, tag in x])\n",
    "clean.head()"
   ]
  },
  {
   "cell_type": "markdown",
   "metadata": {},
   "source": [
    "# Sentiment Analysis"
   ]
  },
  {
   "cell_type": "code",
   "execution_count": 55,
   "metadata": {},
   "outputs": [],
   "source": [
    "analyzer = SentimentIntensityAnalyzer()"
   ]
  },
  {
   "cell_type": "code",
   "execution_count": 72,
   "metadata": {},
   "outputs": [],
   "source": [
    "corpus = list(clean['fulltext'])"
   ]
  },
  {
   "cell_type": "code",
   "execution_count": 75,
   "metadata": {},
   "outputs": [
    {
     "data": {
      "text/html": [
       "<div>\n",
       "<style scoped>\n",
       "    .dataframe tbody tr th:only-of-type {\n",
       "        vertical-align: middle;\n",
       "    }\n",
       "\n",
       "    .dataframe tbody tr th {\n",
       "        vertical-align: top;\n",
       "    }\n",
       "\n",
       "    .dataframe thead th {\n",
       "        text-align: right;\n",
       "    }\n",
       "</style>\n",
       "<table border=\"1\" class=\"dataframe\">\n",
       "  <thead>\n",
       "    <tr style=\"text-align: right;\">\n",
       "      <th></th>\n",
       "      <th>neg</th>\n",
       "      <th>neu</th>\n",
       "      <th>pos</th>\n",
       "      <th>compound</th>\n",
       "    </tr>\n",
       "  </thead>\n",
       "  <tbody>\n",
       "    <tr>\n",
       "      <th>0</th>\n",
       "      <td>0.129</td>\n",
       "      <td>0.811</td>\n",
       "      <td>0.060</td>\n",
       "      <td>-0.9999</td>\n",
       "    </tr>\n",
       "    <tr>\n",
       "      <th>1</th>\n",
       "      <td>0.169</td>\n",
       "      <td>0.742</td>\n",
       "      <td>0.089</td>\n",
       "      <td>-0.9996</td>\n",
       "    </tr>\n",
       "    <tr>\n",
       "      <th>2</th>\n",
       "      <td>0.089</td>\n",
       "      <td>0.841</td>\n",
       "      <td>0.071</td>\n",
       "      <td>-0.9812</td>\n",
       "    </tr>\n",
       "    <tr>\n",
       "      <th>3</th>\n",
       "      <td>0.047</td>\n",
       "      <td>0.796</td>\n",
       "      <td>0.157</td>\n",
       "      <td>0.6996</td>\n",
       "    </tr>\n",
       "    <tr>\n",
       "      <th>4</th>\n",
       "      <td>0.125</td>\n",
       "      <td>0.802</td>\n",
       "      <td>0.073</td>\n",
       "      <td>-0.9967</td>\n",
       "    </tr>\n",
       "  </tbody>\n",
       "</table>\n",
       "</div>"
      ],
      "text/plain": [
       "     neg    neu    pos  compound\n",
       "0  0.129  0.811  0.060   -0.9999\n",
       "1  0.169  0.742  0.089   -0.9996\n",
       "2  0.089  0.841  0.071   -0.9812\n",
       "3  0.047  0.796  0.157    0.6996\n",
       "4  0.125  0.802  0.073   -0.9967"
      ]
     },
     "execution_count": 75,
     "metadata": {},
     "output_type": "execute_result"
    }
   ],
   "source": [
    "sentiment = []    \n",
    "\n",
    "for post in corpus:\n",
    "    scores = analyzer.polarity_scores(post)\n",
    "    clean['fulltext'] = post\n",
    "    sentiment.append(scores)\n",
    "\n",
    "dfs = pd.DataFrame(sentiment)\n",
    "dfs.head()"
   ]
  },
  {
   "cell_type": "code",
   "execution_count": 139,
   "metadata": {},
   "outputs": [
    {
     "data": {
      "text/html": [
       "<div>\n",
       "<style scoped>\n",
       "    .dataframe tbody tr th:only-of-type {\n",
       "        vertical-align: middle;\n",
       "    }\n",
       "\n",
       "    .dataframe tbody tr th {\n",
       "        vertical-align: top;\n",
       "    }\n",
       "\n",
       "    .dataframe thead th {\n",
       "        text-align: right;\n",
       "    }\n",
       "</style>\n",
       "<table border=\"1\" class=\"dataframe\">\n",
       "  <thead>\n",
       "    <tr style=\"text-align: right;\">\n",
       "      <th></th>\n",
       "      <th>selftext</th>\n",
       "      <th>subreddit</th>\n",
       "      <th>title</th>\n",
       "      <th>fulltext</th>\n",
       "      <th>nosleep</th>\n",
       "      <th>tokenized_sent</th>\n",
       "      <th>stopwords_removed</th>\n",
       "      <th>tags</th>\n",
       "      <th>type</th>\n",
       "      <th>lemmatized</th>\n",
       "      <th>comp_sent</th>\n",
       "    </tr>\n",
       "  </thead>\n",
       "  <tbody>\n",
       "    <tr>\n",
       "      <th>0</th>\n",
       "      <td>[Part 1](https://www.reddit.com/r/nosleep/comm...</td>\n",
       "      <td>nosleep</td>\n",
       "      <td>My memories may soon kill me. (Part 2)</td>\n",
       "      <td>Creepy customer I am a 18 year old cashier at ...</td>\n",
       "      <td>1</td>\n",
       "      <td>[My, memories, may, soon, kill, me, ., (, Part...</td>\n",
       "      <td>[My, memories, may, soon, kill, ., (, Part, 2,...</td>\n",
       "      <td>[(My, PRP$), (memories, NNS), (may, MD), (soon...</td>\n",
       "      <td>[(My, n), (memories, n), (may, n), (soon, r), ...</td>\n",
       "      <td>[My, memory, may, soon, kill, ., (, Part, 2, )...</td>\n",
       "      <td>-0.9999</td>\n",
       "    </tr>\n",
       "    <tr>\n",
       "      <th>1</th>\n",
       "      <td>Suki was assigned her maternal spirit at bi...</td>\n",
       "      <td>nosleep</td>\n",
       "      <td>Sometimes The Devil Wins</td>\n",
       "      <td>Creepy customer I am a 18 year old cashier at ...</td>\n",
       "      <td>1</td>\n",
       "      <td>[Sometimes, The, Devil, Wins, Suki, was, assig...</td>\n",
       "      <td>[Sometimes, The, Devil, Wins, Suki, assigned, ...</td>\n",
       "      <td>[(Sometimes, RB), (The, DT), (Devil, NNP), (Wi...</td>\n",
       "      <td>[(Sometimes, r), (The, n), (Devil, n), (Wins, ...</td>\n",
       "      <td>[Sometimes, The, Devil, Wins, Suki, assign, ma...</td>\n",
       "      <td>-0.9996</td>\n",
       "    </tr>\n",
       "    <tr>\n",
       "      <th>2</th>\n",
       "      <td>I want to preface this by saying that I have n...</td>\n",
       "      <td>nosleep</td>\n",
       "      <td>The woman that haunts me, day and night</td>\n",
       "      <td>Creepy customer I am a 18 year old cashier at ...</td>\n",
       "      <td>1</td>\n",
       "      <td>[The, woman, that, haunts, me, ,, day, and, ni...</td>\n",
       "      <td>[The, woman, haunts, ,, day, night, I, want, p...</td>\n",
       "      <td>[(The, DT), (woman, NN), (haunts, NNS), (,, ,)...</td>\n",
       "      <td>[(The, n), (woman, n), (haunts, n), (,, n), (d...</td>\n",
       "      <td>[The, woman, haunt, ,, day, night, I, want, pr...</td>\n",
       "      <td>-0.9812</td>\n",
       "    </tr>\n",
       "    <tr>\n",
       "      <th>3</th>\n",
       "      <td>When the kidnapper made me guess where he kept...</td>\n",
       "      <td>nosleep</td>\n",
       "      <td>Good Night :)</td>\n",
       "      <td>Creepy customer I am a 18 year old cashier at ...</td>\n",
       "      <td>1</td>\n",
       "      <td>[Good, Night, :, ), When, the, kidnapper, made...</td>\n",
       "      <td>[Good, Night, :, ), When, kidnapper, made, gue...</td>\n",
       "      <td>[(Good, JJ), (Night, NNP), (:, :), (), )), (Wh...</td>\n",
       "      <td>[(Good, a), (Night, n), (:, n), (), n), (When,...</td>\n",
       "      <td>[Good, Night, :, ), When, kidnapper, make, gue...</td>\n",
       "      <td>0.6996</td>\n",
       "    </tr>\n",
       "    <tr>\n",
       "      <th>4</th>\n",
       "      <td>It was memorial weekend and in my home state o...</td>\n",
       "      <td>nosleep</td>\n",
       "      <td>Camping on the Run</td>\n",
       "      <td>Creepy customer I am a 18 year old cashier at ...</td>\n",
       "      <td>1</td>\n",
       "      <td>[Camping, on, the, Run, It, was, memorial, wee...</td>\n",
       "      <td>[Camping, Run, It, memorial, weekend, home, st...</td>\n",
       "      <td>[(Camping, VBG), (Run, NNP), (It, PRP), (memor...</td>\n",
       "      <td>[(Camping, v), (Run, n), (It, n), (memorial, a...</td>\n",
       "      <td>[Camping, Run, It, memorial, weekend, home, st...</td>\n",
       "      <td>-0.9967</td>\n",
       "    </tr>\n",
       "  </tbody>\n",
       "</table>\n",
       "</div>"
      ],
      "text/plain": [
       "                                            selftext subreddit  \\\n",
       "0  [Part 1](https://www.reddit.com/r/nosleep/comm...   nosleep   \n",
       "1     Suki was assigned her maternal spirit at bi...   nosleep   \n",
       "2  I want to preface this by saying that I have n...   nosleep   \n",
       "3  When the kidnapper made me guess where he kept...   nosleep   \n",
       "4  It was memorial weekend and in my home state o...   nosleep   \n",
       "\n",
       "                                     title  \\\n",
       "0   My memories may soon kill me. (Part 2)   \n",
       "1                 Sometimes The Devil Wins   \n",
       "2  The woman that haunts me, day and night   \n",
       "3                            Good Night :)   \n",
       "4                       Camping on the Run   \n",
       "\n",
       "                                            fulltext  nosleep  \\\n",
       "0  Creepy customer I am a 18 year old cashier at ...        1   \n",
       "1  Creepy customer I am a 18 year old cashier at ...        1   \n",
       "2  Creepy customer I am a 18 year old cashier at ...        1   \n",
       "3  Creepy customer I am a 18 year old cashier at ...        1   \n",
       "4  Creepy customer I am a 18 year old cashier at ...        1   \n",
       "\n",
       "                                      tokenized_sent  \\\n",
       "0  [My, memories, may, soon, kill, me, ., (, Part...   \n",
       "1  [Sometimes, The, Devil, Wins, Suki, was, assig...   \n",
       "2  [The, woman, that, haunts, me, ,, day, and, ni...   \n",
       "3  [Good, Night, :, ), When, the, kidnapper, made...   \n",
       "4  [Camping, on, the, Run, It, was, memorial, wee...   \n",
       "\n",
       "                                   stopwords_removed  \\\n",
       "0  [My, memories, may, soon, kill, ., (, Part, 2,...   \n",
       "1  [Sometimes, The, Devil, Wins, Suki, assigned, ...   \n",
       "2  [The, woman, haunts, ,, day, night, I, want, p...   \n",
       "3  [Good, Night, :, ), When, kidnapper, made, gue...   \n",
       "4  [Camping, Run, It, memorial, weekend, home, st...   \n",
       "\n",
       "                                                tags  \\\n",
       "0  [(My, PRP$), (memories, NNS), (may, MD), (soon...   \n",
       "1  [(Sometimes, RB), (The, DT), (Devil, NNP), (Wi...   \n",
       "2  [(The, DT), (woman, NN), (haunts, NNS), (,, ,)...   \n",
       "3  [(Good, JJ), (Night, NNP), (:, :), (), )), (Wh...   \n",
       "4  [(Camping, VBG), (Run, NNP), (It, PRP), (memor...   \n",
       "\n",
       "                                                type  \\\n",
       "0  [(My, n), (memories, n), (may, n), (soon, r), ...   \n",
       "1  [(Sometimes, r), (The, n), (Devil, n), (Wins, ...   \n",
       "2  [(The, n), (woman, n), (haunts, n), (,, n), (d...   \n",
       "3  [(Good, a), (Night, n), (:, n), (), n), (When,...   \n",
       "4  [(Camping, v), (Run, n), (It, n), (memorial, a...   \n",
       "\n",
       "                                          lemmatized  comp_sent  \n",
       "0  [My, memory, may, soon, kill, ., (, Part, 2, )...    -0.9999  \n",
       "1  [Sometimes, The, Devil, Wins, Suki, assign, ma...    -0.9996  \n",
       "2  [The, woman, haunt, ,, day, night, I, want, pr...    -0.9812  \n",
       "3  [Good, Night, :, ), When, kidnapper, make, gue...     0.6996  \n",
       "4  [Camping, Run, It, memorial, weekend, home, st...    -0.9967  "
      ]
     },
     "execution_count": 139,
     "metadata": {},
     "output_type": "execute_result"
    }
   ],
   "source": [
    "clean['comp_sent'] = dfs['compound']\n",
    "clean.head()"
   ]
  },
  {
   "cell_type": "code",
   "execution_count": 148,
   "metadata": {},
   "outputs": [],
   "source": [
    "df_nosleep = clean[clean['nosleep'] == 1]\n",
    "sleepsentcount = pd.DataFrame(df_nosleep['comp_sent'].value_counts())"
   ]
  },
  {
   "cell_type": "code",
   "execution_count": 149,
   "metadata": {
    "scrolled": false
   },
   "outputs": [],
   "source": [
    "df_letsnot = clean[clean['nosleep'] == 0]\n",
    "letnotsentcount = pd.DataFrame(df_letsnot['comp_sent'].value_counts())"
   ]
  },
  {
   "cell_type": "code",
   "execution_count": 150,
   "metadata": {},
   "outputs": [
    {
     "data": {
      "image/png": "[encoded data removed]",
      "text/plain": [
       "<Figure size 432x288 with 1 Axes>"
      ]
     },
     "metadata": {
      "needs_background": "light"
     },
     "output_type": "display_data"
    }
   ],
   "source": [
    "clean.groupby('nosleep').mean()[['comp_sent']].plot(kind='barh')\n",
    "plt.title('Average Compound Scores');"
   ]
  },
  {
   "cell_type": "markdown",
   "metadata": {},
   "source": [
    "On average, posts from r/nosleep appear to have very strong sentiments tied to them and posts from r/LetsNotMeet are very close to neutral. This could be due to the fact that fictional stories rely on adjectives and adverbs to paint pictures for the reader. Real-life events can usually be told with enough detail for it to seem believable without drawing on too many evocative words. This theory could potentially be applied in other situations when trying to assess how real a story is."
   ]
  },
  {
   "cell_type": "markdown",
   "metadata": {},
   "source": [
    "# Setting Up Variables"
   ]
  },
  {
   "cell_type": "code",
   "execution_count": 62,
   "metadata": {},
   "outputs": [],
   "source": [
    "X = clean['fulltext']\n",
    "y = clean['nosleep']"
   ]
  },
  {
   "cell_type": "code",
   "execution_count": 90,
   "metadata": {},
   "outputs": [],
   "source": [
    "X_train, X_test, y_train, y_test = train_test_split(X,\n",
    "                                                    y,\n",
    "                                                    stratify=y,\n",
    "                                                    random_state=42)"
   ]
  },
  {
   "cell_type": "markdown",
   "metadata": {},
   "source": [
    "# Baseline Statistics"
   ]
  },
  {
   "cell_type": "code",
   "execution_count": 91,
   "metadata": {},
   "outputs": [
    {
     "data": {
      "text/plain": [
       "1    0.642988\n",
       "0    0.357012\n",
       "Name: nosleep, dtype: float64"
      ]
     },
     "execution_count": 91,
     "metadata": {},
     "output_type": "execute_result"
    }
   ],
   "source": [
    "y.value_counts(normalize=True)"
   ]
  },
  {
   "cell_type": "markdown",
   "metadata": {},
   "source": [
    "This is the accuracy score that our models should aim to beat."
   ]
  },
  {
   "cell_type": "markdown",
   "metadata": {},
   "source": [
    "# CountVectorizer"
   ]
  },
  {
   "cell_type": "markdown",
   "metadata": {},
   "source": [
    "Vectorizing the columns with words so they can be used in model training and analysis."
   ]
  },
  {
   "cell_type": "code",
   "execution_count": 92,
   "metadata": {},
   "outputs": [],
   "source": [
    "cvec = CountVectorizer(stop_words='english', max_features=2_000)"
   ]
  },
  {
   "cell_type": "code",
   "execution_count": 93,
   "metadata": {},
   "outputs": [],
   "source": [
    "Xc_train = cvec.fit_transform(X_train)"
   ]
  },
  {
   "cell_type": "code",
   "execution_count": 94,
   "metadata": {},
   "outputs": [],
   "source": [
    "Xc_test = cvec.transform(X_test)"
   ]
  },
  {
   "cell_type": "code",
   "execution_count": 95,
   "metadata": {
    "scrolled": true
   },
   "outputs": [
    {
     "data": {
      "image/png": "[encoded data removed]",
      "text/plain": [
       "<Figure size 432x288 with 1 Axes>"
      ]
     },
     "metadata": {
      "needs_background": "light"
     },
     "output_type": "display_data"
    }
   ],
   "source": [
    "# words that occur commonly across the two, without stop words\n",
    "\n",
    "Xc_train_df = pd.DataFrame(Xc_train.todense(), columns=cvec.get_feature_names())\n",
    "Xc_train_df.head()\n",
    "Xc_train_df.sum().sort_values(ascending = False).head(10).plot(kind = 'barh');"
   ]
  },
  {
   "cell_type": "code",
   "execution_count": 105,
   "metadata": {},
   "outputs": [],
   "source": [
    "df_X_train = pd.DataFrame(Xc_train.todense(), columns = cvec.get_feature_names())"
   ]
  },
  {
   "cell_type": "code",
   "execution_count": 106,
   "metadata": {},
   "outputs": [],
   "source": [
    "df_X_test = pd.DataFrame(Xc_test.todense(), columns = cvec.get_feature_names())"
   ]
  },
  {
   "cell_type": "code",
   "execution_count": 107,
   "metadata": {},
   "outputs": [],
   "source": [
    "df_X_train.reset_index(drop=True, inplace=True)\n",
    "X_train.reset_index(drop=True, inplace=True)\n",
    "df_X_test.reset_index(drop=True, inplace = True)\n",
    "X_test.reset_index(drop=True, inplace=True)"
   ]
  },
  {
   "cell_type": "markdown",
   "metadata": {},
   "source": [
    "# TF-IDF"
   ]
  },
  {
   "cell_type": "markdown",
   "metadata": {},
   "source": [
    "Another form of vectorization, this time focusing on the frequency of the words."
   ]
  },
  {
   "cell_type": "code",
   "execution_count": 128,
   "metadata": {},
   "outputs": [],
   "source": [
    "tvec = TfidfVectorizer()"
   ]
  },
  {
   "cell_type": "code",
   "execution_count": 171,
   "metadata": {},
   "outputs": [
    {
     "data": {
      "image/png": "[encoded data removed]",
      "text/plain": [
       "<Figure size 432x288 with 1 Axes>"
      ]
     },
     "metadata": {
      "needs_background": "light"
     },
     "output_type": "display_data"
    }
   ],
   "source": [
    "X_train_df = pd.DataFrame(tvec.fit_transform(X_train).todense(), columns=tvec.get_feature_names())\n",
    "X_train_df.sum().sort_values(ascending=False).head(10).plot(kind='barh');"
   ]
  },
  {
   "cell_type": "markdown",
   "metadata": {},
   "source": [
    "# Multinomial Naive-Bayes with Pipeline and GridSearch"
   ]
  },
  {
   "cell_type": "code",
   "execution_count": 172,
   "metadata": {},
   "outputs": [],
   "source": [
    "pipe_tvec = Pipeline([('tvec', TfidfVectorizer()), ('nb', MultinomialNB())])"
   ]
  },
  {
   "cell_type": "code",
   "execution_count": 173,
   "metadata": {},
   "outputs": [],
   "source": [
    "pipe_tvec_params = {\n",
    "    'tvec__max_features': [2_000, 3_000, 4_000, 5_000],\n",
    "    'tvec__stop_words': [None, 'english'],\n",
    "    'tvec__ngram_range': [(1,1), (1,2)]\n",
    "}"
   ]
  },
  {
   "cell_type": "code",
   "execution_count": 174,
   "metadata": {},
   "outputs": [],
   "source": [
    "gs = GridSearchCV(pipe_tvec, pipe_tvec_params, cv = 5)"
   ]
  },
  {
   "cell_type": "code",
   "execution_count": 175,
   "metadata": {},
   "outputs": [
    {
     "data": {
      "text/plain": [
       "GridSearchCV(cv=5, error_score=nan,\n",
       "             estimator=Pipeline(memory=None,\n",
       "                                steps=[('tvec',\n",
       "                                        TfidfVectorizer(analyzer='word',\n",
       "                                                        binary=False,\n",
       "                                                        decode_error='strict',\n",
       "                                                        dtype=<class 'numpy.float64'>,\n",
       "                                                        encoding='utf-8',\n",
       "                                                        input='content',\n",
       "                                                        lowercase=True,\n",
       "                                                        max_df=1.0,\n",
       "                                                        max_features=None,\n",
       "                                                        min_df=1,\n",
       "                                                        ngram_range=(1, 1),\n",
       "                                                        norm='l2',\n",
       "                                                        preprocessor=None,\n",
       "                                                        smooth_idf=True,\n",
       "                                                        stop_words=None,\n",
       "                                                        strip_acce...\n",
       "                                                        tokenizer=None,\n",
       "                                                        use_idf=True,\n",
       "                                                        vocabulary=None)),\n",
       "                                       ('nb',\n",
       "                                        MultinomialNB(alpha=1.0,\n",
       "                                                      class_prior=None,\n",
       "                                                      fit_prior=True))],\n",
       "                                verbose=False),\n",
       "             iid='deprecated', n_jobs=None,\n",
       "             param_grid={'tvec__max_features': [2000, 3000, 4000, 5000],\n",
       "                         'tvec__ngram_range': [(1, 1), (1, 2)],\n",
       "                         'tvec__stop_words': [None, 'english']},\n",
       "             pre_dispatch='2*n_jobs', refit=True, return_train_score=False,\n",
       "             scoring=None, verbose=0)"
      ]
     },
     "execution_count": 175,
     "metadata": {},
     "output_type": "execute_result"
    }
   ],
   "source": [
    "gs.fit(X_train, y_train)"
   ]
  },
  {
   "cell_type": "code",
   "execution_count": 176,
   "metadata": {},
   "outputs": [
    {
     "data": {
      "text/plain": [
       "(0.9310115350488021, 0.9214903526280772)"
      ]
     },
     "execution_count": 176,
     "metadata": {},
     "output_type": "execute_result"
    }
   ],
   "source": [
    "gs.score(X_train, y_train), gs.score(X_test, y_test)"
   ]
  },
  {
   "cell_type": "code",
   "execution_count": 178,
   "metadata": {},
   "outputs": [],
   "source": [
    "tvec_preds = gs.predict(X_test)\n",
    "tn_gs, fp_gs, fn_gs, tp_gs = confusion_matrix(y_test, tvec_preds).ravel()"
   ]
  },
  {
   "cell_type": "code",
   "execution_count": 179,
   "metadata": {},
   "outputs": [
    {
     "data": {
      "text/plain": [
       "0.9214903526280772"
      ]
     },
     "execution_count": 179,
     "metadata": {},
     "output_type": "execute_result"
    }
   ],
   "source": [
    "accuracy_score(y_test, tvec_preds)"
   ]
  },
  {
   "cell_type": "code",
   "execution_count": 199,
   "metadata": {},
   "outputs": [
    {
     "data": {
      "text/plain": [
       "0.9386694386694386"
      ]
     },
     "execution_count": 199,
     "metadata": {},
     "output_type": "execute_result"
    }
   ],
   "source": [
    "f1_score(y_test, tvec_preds)"
   ]
  },
  {
   "cell_type": "markdown",
   "metadata": {},
   "source": [
    "Right off the bat, this model looks great. Only overfit by 1%, and the scores are in the low 90s. While we are focusing on the accuracy because it is intuitively interpretable, the F1 scores are a very balanced metric to be aware of that combines two metrics that are not always useful on their own (precision and recall). Our F1 score here shows that this model correctly predicted almost 94% of the classifications."
   ]
  },
  {
   "cell_type": "markdown",
   "metadata": {},
   "source": [
    "# Random Forest"
   ]
  },
  {
   "cell_type": "code",
   "execution_count": 110,
   "metadata": {},
   "outputs": [],
   "source": [
    "rfc = RandomForestClassifier()"
   ]
  },
  {
   "cell_type": "code",
   "execution_count": 111,
   "metadata": {},
   "outputs": [
    {
     "data": {
      "text/plain": [
       "RandomForestClassifier(bootstrap=True, ccp_alpha=0.0, class_weight=None,\n",
       "                       criterion='gini', max_depth=None, max_features='auto',\n",
       "                       max_leaf_nodes=None, max_samples=None,\n",
       "                       min_impurity_decrease=0.0, min_impurity_split=None,\n",
       "                       min_samples_leaf=1, min_samples_split=2,\n",
       "                       min_weight_fraction_leaf=0.0, n_estimators=100,\n",
       "                       n_jobs=None, oob_score=False, random_state=None,\n",
       "                       verbose=0, warm_start=False)"
      ]
     },
     "execution_count": 111,
     "metadata": {},
     "output_type": "execute_result"
    }
   ],
   "source": [
    "rfc.fit(Xc_train, y_train)"
   ]
  },
  {
   "cell_type": "code",
   "execution_count": 112,
   "metadata": {},
   "outputs": [
    {
     "data": {
      "text/plain": [
       "(0.9971162377994676, 0.9028609447771124)"
      ]
     },
     "execution_count": 112,
     "metadata": {},
     "output_type": "execute_result"
    }
   ],
   "source": [
    "rfc.score(Xc_train, y_train), rfc.score(Xc_test, y_test)"
   ]
  },
  {
   "cell_type": "code",
   "execution_count": 183,
   "metadata": {},
   "outputs": [],
   "source": [
    "rfc_preds = rfc.predict(Xc_test)"
   ]
  },
  {
   "cell_type": "code",
   "execution_count": 184,
   "metadata": {},
   "outputs": [
    {
     "data": {
      "text/plain": [
       "0.9028609447771124"
      ]
     },
     "execution_count": 184,
     "metadata": {},
     "output_type": "execute_result"
    }
   ],
   "source": [
    "accuracy_score(y_test, rfc_preds)"
   ]
  },
  {
   "cell_type": "code",
   "execution_count": 200,
   "metadata": {},
   "outputs": [
    {
     "data": {
      "text/plain": [
       "0.9268537074148296"
      ]
     },
     "execution_count": 200,
     "metadata": {},
     "output_type": "execute_result"
    }
   ],
   "source": [
    "f1_score(y_test, rfc_preds)"
   ]
  },
  {
   "cell_type": "markdown",
   "metadata": {},
   "source": [
    "While this model also did well, it is very overfit, so it is second to MNB."
   ]
  },
  {
   "cell_type": "markdown",
   "metadata": {},
   "source": [
    "# Extra Trees"
   ]
  },
  {
   "cell_type": "code",
   "execution_count": 122,
   "metadata": {},
   "outputs": [],
   "source": [
    "et = ExtraTreesClassifier()"
   ]
  },
  {
   "cell_type": "code",
   "execution_count": 123,
   "metadata": {},
   "outputs": [
    {
     "data": {
      "text/plain": [
       "ExtraTreesClassifier(bootstrap=False, ccp_alpha=0.0, class_weight=None,\n",
       "                     criterion='gini', max_depth=None, max_features='auto',\n",
       "                     max_leaf_nodes=None, max_samples=None,\n",
       "                     min_impurity_decrease=0.0, min_impurity_split=None,\n",
       "                     min_samples_leaf=1, min_samples_split=2,\n",
       "                     min_weight_fraction_leaf=0.0, n_estimators=100,\n",
       "                     n_jobs=None, oob_score=False, random_state=None, verbose=0,\n",
       "                     warm_start=False)"
      ]
     },
     "execution_count": 123,
     "metadata": {},
     "output_type": "execute_result"
    }
   ],
   "source": [
    "et.fit(Xc_train, y_train)"
   ]
  },
  {
   "cell_type": "code",
   "execution_count": 124,
   "metadata": {},
   "outputs": [
    {
     "data": {
      "text/plain": [
       "(0.9971162377994676, 0.9001996007984032)"
      ]
     },
     "execution_count": 124,
     "metadata": {},
     "output_type": "execute_result"
    }
   ],
   "source": [
    "et.score(Xc_train, y_train), et.score(Xc_test, y_test)"
   ]
  },
  {
   "cell_type": "code",
   "execution_count": 125,
   "metadata": {
    "scrolled": true
   },
   "outputs": [
    {
     "data": {
      "text/html": [
       "<div>\n",
       "<style scoped>\n",
       "    .dataframe tbody tr th:only-of-type {\n",
       "        vertical-align: middle;\n",
       "    }\n",
       "\n",
       "    .dataframe tbody tr th {\n",
       "        vertical-align: top;\n",
       "    }\n",
       "\n",
       "    .dataframe thead th {\n",
       "        text-align: right;\n",
       "    }\n",
       "</style>\n",
       "<table border=\"1\" class=\"dataframe\">\n",
       "  <thead>\n",
       "    <tr style=\"text-align: right;\">\n",
       "      <th></th>\n",
       "      <th>Column Name</th>\n",
       "      <th>Feature Importance</th>\n",
       "    </tr>\n",
       "  </thead>\n",
       "  <tbody>\n",
       "    <tr>\n",
       "      <th>1106</th>\n",
       "      <td>meet</td>\n",
       "      <td>0.014110</td>\n",
       "    </tr>\n",
       "    <tr>\n",
       "      <th>777</th>\n",
       "      <td>guy</td>\n",
       "      <td>0.010560</td>\n",
       "    </tr>\n",
       "    <tr>\n",
       "      <th>395</th>\n",
       "      <td>creepy</td>\n",
       "      <td>0.009269</td>\n",
       "    </tr>\n",
       "    <tr>\n",
       "      <th>590</th>\n",
       "      <td>eyes</td>\n",
       "      <td>0.008662</td>\n",
       "    </tr>\n",
       "    <tr>\n",
       "      <th>173</th>\n",
       "      <td>blood</td>\n",
       "      <td>0.006901</td>\n",
       "    </tr>\n",
       "    <tr>\n",
       "      <th>179</th>\n",
       "      <td>body</td>\n",
       "      <td>0.006504</td>\n",
       "    </tr>\n",
       "    <tr>\n",
       "      <th>438</th>\n",
       "      <td>deep</td>\n",
       "      <td>0.006361</td>\n",
       "    </tr>\n",
       "    <tr>\n",
       "      <th>1020</th>\n",
       "      <td>like</td>\n",
       "      <td>0.006240</td>\n",
       "    </tr>\n",
       "    <tr>\n",
       "      <th>968</th>\n",
       "      <td>know</td>\n",
       "      <td>0.004885</td>\n",
       "    </tr>\n",
       "    <tr>\n",
       "      <th>1016</th>\n",
       "      <td>life</td>\n",
       "      <td>0.004786</td>\n",
       "    </tr>\n",
       "  </tbody>\n",
       "</table>\n",
       "</div>"
      ],
      "text/plain": [
       "     Column Name  Feature Importance\n",
       "1106        meet            0.014110\n",
       "777          guy            0.010560\n",
       "395       creepy            0.009269\n",
       "590         eyes            0.008662\n",
       "173        blood            0.006901\n",
       "179         body            0.006504\n",
       "438         deep            0.006361\n",
       "1020        like            0.006240\n",
       "968         know            0.004885\n",
       "1016        life            0.004786"
      ]
     },
     "execution_count": 125,
     "metadata": {},
     "output_type": "execute_result"
    }
   ],
   "source": [
    "f2 = {'Column Name':df_X_train.columns,'Feature Importance':et.feature_importances_}\n",
    "et_fi = pd.DataFrame(f2)\n",
    "\n",
    "et_fi.sort_values(by=['Feature Importance'], ascending = False).head(10)"
   ]
  },
  {
   "cell_type": "code",
   "execution_count": 185,
   "metadata": {},
   "outputs": [],
   "source": [
    "et_preds = et.predict(Xc_test)\n",
    "tn_et, fp_et, fn_et, tp_et = confusion_matrix(y_test, et_preds).ravel()"
   ]
  },
  {
   "cell_type": "code",
   "execution_count": 186,
   "metadata": {},
   "outputs": [
    {
     "data": {
      "text/plain": [
       "0.9001996007984032"
      ]
     },
     "execution_count": 186,
     "metadata": {},
     "output_type": "execute_result"
    }
   ],
   "source": [
    "accuracy_score(y_test, et_preds)"
   ]
  },
  {
   "cell_type": "code",
   "execution_count": 201,
   "metadata": {},
   "outputs": [
    {
     "data": {
      "text/plain": [
       "0.9257425742574258"
      ]
     },
     "execution_count": 201,
     "metadata": {},
     "output_type": "execute_result"
    }
   ],
   "source": [
    "f1_score(y_test, et_preds)"
   ]
  },
  {
   "cell_type": "markdown",
   "metadata": {},
   "source": [
    "This model had scores similar to the Random Forest Classifier across the board, but because the training score was 2.6% higher, the model is even more overfit."
   ]
  },
  {
   "cell_type": "markdown",
   "metadata": {},
   "source": [
    "# KNN"
   ]
  },
  {
   "cell_type": "code",
   "execution_count": 191,
   "metadata": {},
   "outputs": [],
   "source": [
    "knn = KNeighborsClassifier()"
   ]
  },
  {
   "cell_type": "code",
   "execution_count": 192,
   "metadata": {},
   "outputs": [
    {
     "data": {
      "text/plain": [
       "KNeighborsClassifier(algorithm='auto', leaf_size=30, metric='minkowski',\n",
       "                     metric_params=None, n_jobs=None, n_neighbors=5, p=2,\n",
       "                     weights='uniform')"
      ]
     },
     "execution_count": 192,
     "metadata": {},
     "output_type": "execute_result"
    }
   ],
   "source": [
    "knn.fit(Xc_train, y_train)"
   ]
  },
  {
   "cell_type": "code",
   "execution_count": 193,
   "metadata": {},
   "outputs": [
    {
     "data": {
      "text/plain": [
       "(0.7566548358473825, 0.6660013306719893)"
      ]
     },
     "execution_count": 193,
     "metadata": {},
     "output_type": "execute_result"
    }
   ],
   "source": [
    "knn.score(Xc_train, y_train), knn.score(Xc_test, y_test)"
   ]
  },
  {
   "cell_type": "code",
   "execution_count": 196,
   "metadata": {},
   "outputs": [
    {
     "data": {
      "text/plain": [
       "0.6508469279022323"
      ]
     },
     "execution_count": 196,
     "metadata": {},
     "output_type": "execute_result"
    }
   ],
   "source": [
    "cross_val_score(knn, Xc_train, y_train).mean()"
   ]
  },
  {
   "cell_type": "code",
   "execution_count": 197,
   "metadata": {},
   "outputs": [],
   "source": [
    "knn_preds = knn.predict(Xc_test)"
   ]
  },
  {
   "cell_type": "code",
   "execution_count": 198,
   "metadata": {},
   "outputs": [
    {
     "data": {
      "text/plain": [
       "0.6660013306719893"
      ]
     },
     "execution_count": 198,
     "metadata": {},
     "output_type": "execute_result"
    }
   ],
   "source": [
    "accuracy_score(y_test, knn_preds)"
   ]
  },
  {
   "cell_type": "code",
   "execution_count": 202,
   "metadata": {},
   "outputs": [
    {
     "data": {
      "text/plain": [
       "0.6842767295597484"
      ]
     },
     "execution_count": 202,
     "metadata": {},
     "output_type": "execute_result"
    }
   ],
   "source": [
    "f1_score(y_test, knn_preds)"
   ]
  },
  {
   "cell_type": "markdown",
   "metadata": {},
   "source": [
    "This model performed the worst of all of them; it was barely better than the baseline. Interesting to note, though, that it has less variance than the Extra Trees Classifier. It's not much better in terms of overfitting, but it is slightly better."
   ]
  },
  {
   "cell_type": "markdown",
   "metadata": {},
   "source": [
    "# Concluding Analysis"
   ]
  },
  {
   "cell_type": "markdown",
   "metadata": {},
   "source": [
    "Of the four models, three of them were able to make accurate predictions at a significantly higher rate than the baseline. MNB, RFC and ETC all had scores into the 90s, but only MNB had consistent scores, making it the ideal model for the situation. Adjusting the parameters of the MNB model might be able to bring the scores up by a few percentage points, but it is highly unlikely it can ever be perfect.\n",
    "\n",
    "It is important to realize that the error within the model is significant. It means that a number of posts are not correctly labeled as fake when they are, or real information is being labeled fake. This kind of mislabeling can be detrimental in certain situations, so it is important to have a kind of safety net to catch the posts that do slip through the cracks. This safety net, generally, is human intervention. On Reddit, moderators can sift through posts and other users can report them. While this feature can and is misused, it is the best bet to stop fake information from being displayed as real."
   ]
  }
 ],
 "metadata": {
  "kernelspec": {
   "display_name": "Python 3",
   "language": "python",
   "name": "python3"
  },
  "language_info": {
   "codemirror_mode": {
    "name": "ipython",
    "version": 3
   },
   "file_extension": ".py",
   "mimetype": "text/x-python",
   "name": "python",
   "nbconvert_exporter": "python",
   "pygments_lexer": "ipython3",
   "version": "3.7.6"
  }
 },
 "nbformat": 4,
 "nbformat_minor": 4
}
